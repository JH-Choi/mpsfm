{
 "cells": [
  {
   "cell_type": "code",
   "execution_count": 1,
   "metadata": {},
   "outputs": [
    {
     "ename": "ImportError",
     "evalue": "cannot import name 'LossFunctionType' from 'pycolmap' (/home/user/.local/lib/python3.10/site-packages/pycolmap.cpython-310-x86_64-linux-gnu.so)",
     "output_type": "error",
     "traceback": [
      "\u001b[0;31m---------------------------------------------------------------------------\u001b[0m",
      "\u001b[0;31mImportError\u001b[0m                               Traceback (most recent call last)",
      "Cell \u001b[0;32mIn[1], line 7\u001b[0m\n\u001b[1;32m      4\u001b[0m \u001b[38;5;28;01mfrom\u001b[39;00m \u001b[38;5;21;01mmatplotlib\u001b[39;00m \u001b[38;5;28;01mimport\u001b[39;00m pyplot \u001b[38;5;28;01mas\u001b[39;00m plt\n\u001b[1;32m      5\u001b[0m \u001b[38;5;28;01mfrom\u001b[39;00m \u001b[38;5;21;01mtqdm\u001b[39;00m\u001b[38;5;21;01m.\u001b[39;00m\u001b[38;5;21;01mnotebook\u001b[39;00m \u001b[38;5;28;01mimport\u001b[39;00m tqdm\n\u001b[0;32m----> 7\u001b[0m \u001b[38;5;28;01mfrom\u001b[39;00m \u001b[38;5;21;01mmpsfm\u001b[39;00m\u001b[38;5;21;01m.\u001b[39;00m\u001b[38;5;21;01mtest\u001b[39;00m\u001b[38;5;21;01m.\u001b[39;00m\u001b[38;5;21;01msimple\u001b[39;00m \u001b[38;5;28;01mimport\u001b[39;00m SimpleTest\n\u001b[1;32m      8\u001b[0m \u001b[38;5;28;01mfrom\u001b[39;00m \u001b[38;5;21;01mmpsfm\u001b[39;00m\u001b[38;5;21;01m.\u001b[39;00m\u001b[38;5;21;01mutils\u001b[39;00m\u001b[38;5;21;01m.\u001b[39;00m\u001b[38;5;21;01mtools\u001b[39;00m \u001b[38;5;28;01mimport\u001b[39;00m load_cfg\n\u001b[1;32m      9\u001b[0m \u001b[38;5;28;01mfrom\u001b[39;00m \u001b[38;5;21;01mmpsfm\u001b[39;00m\u001b[38;5;21;01m.\u001b[39;00m\u001b[38;5;21;01mvars\u001b[39;00m \u001b[38;5;28;01mimport\u001b[39;00m gvars\n",
      "File \u001b[0;32m/workspace/mpsfm/mpsfm/test/simple.py:5\u001b[0m\n\u001b[1;32m      3\u001b[0m \u001b[38;5;28;01mfrom\u001b[39;00m \u001b[38;5;21;01mmpsfm\u001b[39;00m\u001b[38;5;21;01m.\u001b[39;00m\u001b[38;5;21;01mbaseclass\u001b[39;00m \u001b[38;5;28;01mimport\u001b[39;00m BaseClass\n\u001b[1;32m      4\u001b[0m \u001b[38;5;28;01mfrom\u001b[39;00m \u001b[38;5;21;01mmpsfm\u001b[39;00m\u001b[38;5;21;01m.\u001b[39;00m\u001b[38;5;21;01mdata_proc\u001b[39;00m\u001b[38;5;21;01m.\u001b[39;00m\u001b[38;5;21;01msimple\u001b[39;00m \u001b[38;5;28;01mimport\u001b[39;00m SimpleDataset, SimpleParser\n\u001b[0;32m----> 5\u001b[0m \u001b[38;5;28;01mfrom\u001b[39;00m \u001b[38;5;21;01mmpsfm\u001b[39;00m\u001b[38;5;21;01m.\u001b[39;00m\u001b[38;5;21;01msfm\u001b[39;00m\u001b[38;5;21;01m.\u001b[39;00m\u001b[38;5;21;01mreconstruction_manager\u001b[39;00m \u001b[38;5;28;01mimport\u001b[39;00m ReconstructionManager\n\u001b[1;32m      8\u001b[0m \u001b[38;5;28;01mclass\u001b[39;00m \u001b[38;5;21;01mSimpleTest\u001b[39;00m(BaseClass):\n\u001b[1;32m      9\u001b[0m \u001b[38;5;250m    \u001b[39m\u001b[38;5;124;03m\"\"\"SimpleTest class for reconstructing a user input testset.\"\"\"\u001b[39;00m\n",
      "File \u001b[0;32m/workspace/mpsfm/mpsfm/sfm/reconstruction_manager.py:2\u001b[0m\n\u001b[1;32m      1\u001b[0m \u001b[38;5;28;01mfrom\u001b[39;00m \u001b[38;5;21;01mmpsfm\u001b[39;00m\u001b[38;5;21;01m.\u001b[39;00m\u001b[38;5;21;01mbaseclass\u001b[39;00m \u001b[38;5;28;01mimport\u001b[39;00m BaseClass\n\u001b[0;32m----> 2\u001b[0m \u001b[38;5;28;01mfrom\u001b[39;00m \u001b[38;5;21;01mmpsfm\u001b[39;00m\u001b[38;5;21;01m.\u001b[39;00m\u001b[38;5;21;01msfm\u001b[39;00m\u001b[38;5;21;01m.\u001b[39;00m\u001b[38;5;21;01mmapper\u001b[39;00m \u001b[38;5;28;01mimport\u001b[39;00m MpsfmMapper\n\u001b[1;32m      5\u001b[0m \u001b[38;5;28;01mclass\u001b[39;00m \u001b[38;5;21;01mReconstructionManager\u001b[39;00m(BaseClass):\n\u001b[1;32m      6\u001b[0m \u001b[38;5;250m    \u001b[39m\u001b[38;5;124;03m\"\"\"Used to create the reconstruction object and manage the reconstruction process.\"\"\"\u001b[39;00m\n",
      "File \u001b[0;32m/workspace/mpsfm/mpsfm/sfm/mapper/__init__.py:3\u001b[0m\n\u001b[1;32m      1\u001b[0m \u001b[38;5;124;03m\"\"\"Module containing the MP-SfM mapper class.\"\"\"\u001b[39;00m\n\u001b[0;32m----> 3\u001b[0m \u001b[38;5;28;01mfrom\u001b[39;00m \u001b[38;5;21;01m.\u001b[39;00m\u001b[38;5;21;01mbase\u001b[39;00m \u001b[38;5;28;01mimport\u001b[39;00m MpsfmMapper\n\u001b[1;32m      5\u001b[0m __all__ \u001b[38;5;241m=\u001b[39m [\u001b[38;5;124m\"\u001b[39m\u001b[38;5;124mMpsfmMapper\u001b[39m\u001b[38;5;124m\"\u001b[39m]\n",
      "File \u001b[0;32m/workspace/mpsfm/mpsfm/sfm/mapper/base.py:8\u001b[0m\n\u001b[1;32m      6\u001b[0m \u001b[38;5;28;01mfrom\u001b[39;00m \u001b[38;5;21;01mmpsfm\u001b[39;00m\u001b[38;5;21;01m.\u001b[39;00m\u001b[38;5;21;01mbaseclass\u001b[39;00m \u001b[38;5;28;01mimport\u001b[39;00m BaseClass\n\u001b[1;32m      7\u001b[0m \u001b[38;5;28;01mfrom\u001b[39;00m \u001b[38;5;21;01mmpsfm\u001b[39;00m\u001b[38;5;21;01m.\u001b[39;00m\u001b[38;5;21;01mextraction\u001b[39;00m \u001b[38;5;28;01mimport\u001b[39;00m Extraction\n\u001b[0;32m----> 8\u001b[0m \u001b[38;5;28;01mfrom\u001b[39;00m \u001b[38;5;21;01mmpsfm\u001b[39;00m\u001b[38;5;21;01m.\u001b[39;00m\u001b[38;5;21;01msfm\u001b[39;00m\u001b[38;5;21;01m.\u001b[39;00m\u001b[38;5;21;01mmapper\u001b[39;00m\u001b[38;5;21;01m.\u001b[39;00m\u001b[38;5;21;01mbundle_adjustment\u001b[39;00m \u001b[38;5;28;01mimport\u001b[39;00m Optimizer\n\u001b[1;32m      9\u001b[0m \u001b[38;5;28;01mfrom\u001b[39;00m \u001b[38;5;21;01mmpsfm\u001b[39;00m\u001b[38;5;21;01m.\u001b[39;00m\u001b[38;5;21;01msfm\u001b[39;00m\u001b[38;5;21;01m.\u001b[39;00m\u001b[38;5;21;01mmapper\u001b[39;00m\u001b[38;5;21;01m.\u001b[39;00m\u001b[38;5;21;01mdepthconsistency\u001b[39;00m \u001b[38;5;28;01mimport\u001b[39;00m DepthConsistencyChecker\n\u001b[1;32m     10\u001b[0m \u001b[38;5;28;01mfrom\u001b[39;00m \u001b[38;5;21;01mmpsfm\u001b[39;00m\u001b[38;5;21;01m.\u001b[39;00m\u001b[38;5;21;01msfm\u001b[39;00m\u001b[38;5;21;01m.\u001b[39;00m\u001b[38;5;21;01mmapper\u001b[39;00m\u001b[38;5;21;01m.\u001b[39;00m\u001b[38;5;21;01mimage_selection\u001b[39;00m \u001b[38;5;28;01mimport\u001b[39;00m ImageSelection\n",
      "File \u001b[0;32m/workspace/mpsfm/mpsfm/sfm/mapper/bundle_adjustment.py:5\u001b[0m\n\u001b[1;32m      3\u001b[0m \u001b[38;5;28;01mimport\u001b[39;00m \u001b[38;5;21;01mpycolmap\u001b[39;00m\n\u001b[1;32m      4\u001b[0m \u001b[38;5;28;01mfrom\u001b[39;00m \u001b[38;5;21;01mpyceres\u001b[39;00m \u001b[38;5;28;01mimport\u001b[39;00m Problem\n\u001b[0;32m----> 5\u001b[0m \u001b[38;5;28;01mfrom\u001b[39;00m \u001b[38;5;21;01mpycolmap\u001b[39;00m \u001b[38;5;28;01mimport\u001b[39;00m LossFunctionType\n\u001b[1;32m      7\u001b[0m \u001b[38;5;28;01mfrom\u001b[39;00m \u001b[38;5;21;01mmpsfm\u001b[39;00m\u001b[38;5;21;01m.\u001b[39;00m\u001b[38;5;21;01mbaseclass\u001b[39;00m \u001b[38;5;28;01mimport\u001b[39;00m BaseClass\n\u001b[1;32m     10\u001b[0m \u001b[38;5;28;01mdef\u001b[39;00m \u001b[38;5;21mfit_robust_gaussian_mad\u001b[39m(data):\n",
      "\u001b[0;31mImportError\u001b[0m: cannot import name 'LossFunctionType' from 'pycolmap' (/home/user/.local/lib/python3.10/site-packages/pycolmap.cpython-310-x86_64-linux-gnu.so)"
     ]
    }
   ],
   "source": [
    "%load_ext autoreload\n",
    "%autoreload 2\n",
    "import numpy as np\n",
    "from matplotlib import pyplot as plt\n",
    "from tqdm.notebook import tqdm\n",
    "\n",
    "from mpsfm.test.simple import SimpleTest\n",
    "from mpsfm.utils.tools import load_cfg\n",
    "from mpsfm.vars import gvars"
   ]
  },
  {
   "cell_type": "code",
   "execution_count": 2,
   "metadata": {},
   "outputs": [],
   "source": [
    "# select pipeline: mpsfm/sfm/configs\n",
    "cname = \"sp-mast3r-dense\"\n",
    "conf = load_cfg(gvars.SFM_CONFIG_DIR / f\"{cname}.yaml\", return_name=False)"
   ]
  },
  {
   "cell_type": "code",
   "execution_count": null,
   "metadata": {},
   "outputs": [],
   "source": [
    "from mpsfm.utils.io import read_image\n",
    "from mpsfm.utils.viz import plot_images, plot_keypoints\n",
    "\n",
    "# example: 7 frames\n",
    "data_dir = gvars.ROOT / \"local/example\"\n",
    "imanmes = sorted(list((data_dir / \"images\").iterdir()))\n",
    "plot_images([read_image(imname) for imname in imanmes], dpi=30)\n",
    "plt.show()\n",
    "plt.close()"
   ]
  },
  {
   "cell_type": "code",
   "execution_count": null,
   "metadata": {},
   "outputs": [],
   "source": [
    "# setup the experiment\n",
    "experiment = SimpleTest(conf, data_dir=data_dir)\n",
    "# reconstruct\n",
    "in_imanmes = [el.name for el in imanmes]\n",
    "out_rec = experiment(\n",
    "    imnames=in_imanmes,\n",
    "    data_dir=data_dir,\n",
    ")"
   ]
  },
  {
   "cell_type": "code",
   "execution_count": null,
   "metadata": {},
   "outputs": [],
   "source": [
    "# Prior depths\n",
    "p95 = np.percentile([image.depth.data for image in out_rec.images.values()], 95)\n",
    "plot_images([image.depth.data_prior for image in out_rec.images.values()], dpi=50, cmaps=\"viridis\", vmax=p95)\n",
    "# Refined depths\n",
    "plot_images([image.depth.data for image in out_rec.images.values()], dpi=50, cmaps=\"viridis\", vmax=p95)\n",
    "plt.show()\n",
    "plt.close()"
   ]
  },
  {
   "cell_type": "markdown",
   "metadata": {},
   "source": [
    "## Monocular Priors and Depth Refinement\n",
    "To reconstruct challenging low-overlap scenes, we extend COLMAP using monocular surface priors. Monocular depth is used during absolute pose estimation and bundle adjustment to constrain low-overlap poses. To improve reconstruction quality, we refine the depth maps using normals and multi-view constraints. Below, we visualize the dense reconstruction of the scene, with the option to view both the rescaled prior depth maps and the refined depth maps."
   ]
  },
  {
   "cell_type": "code",
   "execution_count": null,
   "metadata": {},
   "outputs": [],
   "source": [
    "fig = out_rec.vis_depth_maps(data_dir / \"images\", name=\"refined\", dmap_rescale=0.8)\n",
    "fig = out_rec.vis_depth_maps(fig=fig, images_dir=data_dir / \"images\", name=\"prior\", prior=True, dmap_rescale=0.8)\n",
    "fig = out_rec.vis_cameras(fig)\n",
    "fig.show()"
   ]
  },
  {
   "cell_type": "markdown",
   "metadata": {},
   "source": [
    "## COLMAP Points\n",
    "**Covariances**: Our pipeline relies on COLMAP 3D points. We compute 3D point covariances to robustly constrain depth maps during normal integration. Below, we visualize the trace of these covariances.\n",
    "\n",
    "**Sparse vs Dense Matches**: Our pipeline offers multiple options for leveraging dense matchers. In this example, we interpolate matches around SuperPoint keypoints to build reliable multi-view tracks in salient regions. To robustly constrain poses in low-overlap scenarios, we additionally sample matches in non-salient regions, building two-view-only tracks. We also visualize the corresponding masked 3D points."
   ]
  },
  {
   "cell_type": "code",
   "execution_count": null,
   "metadata": {},
   "outputs": [],
   "source": [
    "# visualize sparse anchors (blue) and dense points (red)\n",
    "sparse_dense_mode = \"sparse_mask\"\n",
    "fig = out_rec.vis_colmap_points(mode=sparse_dense_mode, name=sparse_dense_mode)\n",
    "uncertainty_mode = \"uncert\"\n",
    "fig = out_rec.vis_colmap_points(fig=fig, mode=uncertainty_mode, name=uncertainty_mode)\n",
    "fig = out_rec.vis_cameras(fig, color=\"green\", name=\"cameras\")\n",
    "fig.show()"
   ]
  },
  {
   "cell_type": "code",
   "execution_count": null,
   "metadata": {},
   "outputs": [],
   "source": [
    "print(\"Propagated uncertainties per pixel...\")\n",
    "intstds = [image.calculate_int_covs_for_entire_image(False, False) for image in tqdm(out_rec.images.values())]\n",
    "priorstds = [image.depth.uncertainty for image in out_rec.images.values()]\n",
    "\n",
    "p90 = np.percentile(np.hstack(intstds), 90)\n",
    "\n",
    "# Prior uncertainties\n",
    "plot_images([std for std in priorstds], dpi=50, vmax=p90, cmaps=\"viridis\")\n",
    "\n",
    "# Propagated uncertainties\n",
    "plot_images([std for std in intstds], dpi=50, vmax=p90, cmaps=\"viridis\")\n",
    "# Find 2D points used to optimize the depth\n",
    "koords_with_3d = [image.keypoint_coords_with_3d() * image.camera.sx for image in out_rec.images.values()]\n",
    "plot_keypoints(koords_with_3d, colors=\"r\", ps=2)\n",
    "plt.show()\n",
    "plt.close()"
   ]
  },
  {
   "cell_type": "code",
   "execution_count": null,
   "metadata": {},
   "outputs": [],
   "source": [
    "p80 = np.percentile(np.hstack(intstds), 80)\n",
    "intcov_masks = {imid: intstds < p80 for imid, intstds in zip(out_rec.images.keys(), intstds)}\n",
    "fig = out_rec.vis_depth_maps(data_dir / \"images\", name=\"refined\", input_masks=intcov_masks)\n",
    "fig = out_rec.vis_cameras(fig)\n",
    "fig.show()"
   ]
  }
 ],
 "metadata": {
  "kernelspec": {
   "display_name": "mpsfm",
   "language": "python",
   "name": "python3"
  },
  "language_info": {
   "codemirror_mode": {
    "name": "ipython",
    "version": 3
   },
   "file_extension": ".py",
   "mimetype": "text/x-python",
   "name": "python",
   "nbconvert_exporter": "python",
   "pygments_lexer": "ipython3",
   "version": "3.11.11"
  }
 },
 "nbformat": 4,
 "nbformat_minor": 2
}
